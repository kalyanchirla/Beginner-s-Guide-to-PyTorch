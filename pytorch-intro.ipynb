{
 "cells": [
  {
   "cell_type": "markdown",
   "metadata": {},
   "source": [
    "# A Beginner's guide to Pytorch\n",
    "\n",
    "**PyTorch** is an open source machine learning library. It is mainly used for applications such as computer vision and natural language processing, primarily developed by Facebook's AI Research Lab. PyTorch performs computations on *Tensors*.\n",
    "\n",
    "**Tensor**: Tensors are nothing but multi-dimensional arrays similar to that in NumPy arrays. The main difference and advantage of tensors is that the tensors and its related operations can run on a CPU or GPU.\n",
    "\n",
    "Let us look at some basic tensor operations to get started with Pytorch:\n",
    "\n",
    "- tensor\n",
    "- rand\n",
    "- zeros\n",
    "- arange\n",
    "- eye\n",
    "\n",
    "Let us begin by importing `torch` and listing out the functions covered in this notebook."
   ]
  },
  {
   "cell_type": "code",
   "execution_count": 37,
   "metadata": {},
   "outputs": [],
   "source": [
    "# Installing `torch` library and `numpy`\n",
    "!pip install torch --quiet\n",
    "!pip install numpy --upgrade --quiet"
   ]
  },
  {
   "cell_type": "code",
   "execution_count": 38,
   "metadata": {},
   "outputs": [],
   "source": [
    "# Import torch and other required modules\n",
    "import torch\n",
    "import numpy as np"
   ]
  },
  {
   "cell_type": "markdown",
   "metadata": {},
   "source": [
    "## Function 1 - torch.tensor\n",
    "\n",
    "This is the starting point function to learn for PyTorch. This function is used to create tensors from a python list or NumPy array which is passed as the parameter to this function. Let us look at some examples to get a better understanding:"
   ]
  },
  {
   "cell_type": "code",
   "execution_count": 39,
   "metadata": {},
   "outputs": [],
   "source": [
    "# Example 1 \n",
    "list1 = [1, 2, 3, 4] # Initializing a python list\n",
    "t1 = torch.tensor(list1) # Converting the list to tensor"
   ]
  },
  {
   "cell_type": "markdown",
   "metadata": {},
   "source": [
    "In the above example, `list1` is Python list which is being converted to a PyTorch tensor using the `torch.tensor()` function. We can verify the types of the same:"
   ]
  },
  {
   "cell_type": "code",
   "execution_count": 40,
   "metadata": {},
   "outputs": [
    {
     "name": "stdout",
     "output_type": "stream",
     "text": [
      "<class 'list'>\n",
      "<class 'torch.Tensor'>\n"
     ]
    }
   ],
   "source": [
    "print(type(list1))\n",
    "print(type(t1))"
   ]
  },
  {
   "cell_type": "markdown",
   "metadata": {},
   "source": [
    "Let us now initialize a NumPy array and then convert it to PyTorch tensor"
   ]
  },
  {
   "cell_type": "code",
   "execution_count": 6,
   "metadata": {},
   "outputs": [
    {
     "data": {
      "text/plain": [
       "tensor([[ 1.,  2.],\n",
       "        [10., 11.]], dtype=torch.float64)"
      ]
     },
     "execution_count": 6,
     "metadata": {},
     "output_type": "execute_result"
    }
   ],
   "source": [
    "# Example 2\n",
    "array_1 = np.array([[1,2],[10.0,11]])\n",
    "t2 = torch.tensor(array_1)\n",
    "t2"
   ]
  },
  {
   "cell_type": "markdown",
   "metadata": {},
   "source": [
    "In the above example, `array_1` is a NumPy array which is being converted to a PyTorch tensor using `torch.tensor()` function. A point to observe is that there is only one float value in the numpy array but the entire array is being converted to float values because of that. \n",
    "\n",
    "We can verify the types of `array_1` and `t2`:"
   ]
  },
  {
   "cell_type": "code",
   "execution_count": 7,
   "metadata": {},
   "outputs": [
    {
     "name": "stdout",
     "output_type": "stream",
     "text": [
      "<class 'numpy.ndarray'>\n",
      "<class 'torch.Tensor'>\n"
     ]
    }
   ],
   "source": [
    "print(type(array_1))\n",
    "print(type(t2))"
   ]
  },
  {
   "cell_type": "markdown",
   "metadata": {},
   "source": [
    "There is also another function `torch.from_numpy()` which takes a numpy array as parameter and converts it into a Pytorch tensor."
   ]
  },
  {
   "cell_type": "code",
   "execution_count": 32,
   "metadata": {},
   "outputs": [
    {
     "data": {
      "text/plain": [
       "tensor([[1, 2],\n",
       "        [3, 4]])"
      ]
     },
     "execution_count": 32,
     "metadata": {},
     "output_type": "execute_result"
    }
   ],
   "source": [
    "# Example 3\n",
    "array_2 = np.array([[1,2],[3,4]])\n",
    "torch.from_numpy(array_2)"
   ]
  },
  {
   "cell_type": "code",
   "execution_count": 33,
   "metadata": {},
   "outputs": [
    {
     "ename": "ValueError",
     "evalue": "expected sequence of length 2 at dim 1 (got 3)",
     "output_type": "error",
     "traceback": [
      "\u001b[0;31m---------------------------------------------------------------------------\u001b[0m",
      "\u001b[0;31mValueError\u001b[0m                                Traceback (most recent call last)",
      "\u001b[0;32m/tmp/ipykernel_37/1225551883.py\u001b[0m in \u001b[0;36m<module>\u001b[0;34m\u001b[0m\n\u001b[1;32m      1\u001b[0m \u001b[0;31m# Example 4\u001b[0m\u001b[0;34m\u001b[0m\u001b[0;34m\u001b[0m\u001b[0;34m\u001b[0m\u001b[0m\n\u001b[0;32m----> 2\u001b[0;31m \u001b[0mtorch\u001b[0m\u001b[0;34m.\u001b[0m\u001b[0mtensor\u001b[0m\u001b[0;34m(\u001b[0m\u001b[0;34m[\u001b[0m\u001b[0;34m[\u001b[0m\u001b[0;36m1\u001b[0m\u001b[0;34m,\u001b[0m \u001b[0;36m2\u001b[0m\u001b[0;34m]\u001b[0m\u001b[0;34m,\u001b[0m \u001b[0;34m[\u001b[0m\u001b[0;36m3\u001b[0m\u001b[0;34m,\u001b[0m \u001b[0;36m4\u001b[0m\u001b[0;34m,\u001b[0m \u001b[0;36m5\u001b[0m\u001b[0;34m]\u001b[0m\u001b[0;34m]\u001b[0m\u001b[0;34m)\u001b[0m\u001b[0;34m\u001b[0m\u001b[0;34m\u001b[0m\u001b[0m\n\u001b[0m",
      "\u001b[0;31mValueError\u001b[0m: expected sequence of length 2 at dim 1 (got 3)"
     ]
    }
   ],
   "source": [
    "# Example 4\n",
    "torch.tensor([[1, 2], [3, 4, 5]])"
   ]
  },
  {
   "cell_type": "markdown",
   "metadata": {},
   "source": [
    "In the above example, it can be seen that the `torch.tensor()` is not being able to convert the given 2D numpy array to a tensor as the 2D array is uneven for which it cannot convert the array to a tensor.\n",
    "\n",
    "`torch.tensor()` is a basic function used as a starting point of the process for any project to convert the data into tensors to work with."
   ]
  },
  {
   "cell_type": "markdown",
   "metadata": {},
   "source": [
    "## Function 2 - torch.rand()\n",
    "\n",
    "This is one of the important functions and used quite often in PyTorch. It is used to intialize the tensor with random numbers with the give shape.\n",
    "\n",
    "Let us look at some examples to get a better understanding of this function:"
   ]
  },
  {
   "cell_type": "code",
   "execution_count": 9,
   "metadata": {},
   "outputs": [
    {
     "data": {
      "text/plain": [
       "tensor([0.3686, 0.0077, 0.8398, 0.0438, 0.6749, 0.4669])"
      ]
     },
     "execution_count": 9,
     "metadata": {},
     "output_type": "execute_result"
    }
   ],
   "source": [
    "# Example 1\n",
    "torch.rand(6)"
   ]
  },
  {
   "cell_type": "markdown",
   "metadata": {},
   "source": [
    "In the above example, we can observe that a tensor has been initialized or filled with random values between 0 and 1 with 6 columns and 1 row."
   ]
  },
  {
   "cell_type": "code",
   "execution_count": 10,
   "metadata": {},
   "outputs": [
    {
     "data": {
      "text/plain": [
       "tensor([[0.6974, 0.1860, 0.7828, 0.4290],\n",
       "        [0.7740, 0.3860, 0.6311, 0.0440],\n",
       "        [0.0578, 0.8943, 0.4333, 0.5459]])"
      ]
     },
     "execution_count": 10,
     "metadata": {},
     "output_type": "execute_result"
    }
   ],
   "source": [
    "# Example 2 \n",
    "torch.rand(3,4)"
   ]
  },
  {
   "cell_type": "markdown",
   "metadata": {},
   "source": [
    "In the above example, we can observe a 2D tensor has been initialized with random values between 0 and 1 with the shape specified in the parameters i.e. 3X4. \n",
    "\n",
    "Similarly, this function can be used to generate a tensor of any dimension"
   ]
  },
  {
   "cell_type": "code",
   "execution_count": 41,
   "metadata": {},
   "outputs": [
    {
     "data": {
      "text/plain": [
       "tensor([[[[0.1083, 0.6528],\n",
       "          [0.4287, 0.1184],\n",
       "          [0.0530, 0.1038],\n",
       "          [0.0605, 0.3506],\n",
       "          [0.2933, 0.0248],\n",
       "          [0.4065, 0.9458]],\n",
       "\n",
       "         [[0.8977, 0.7638],\n",
       "          [0.6217, 0.5297],\n",
       "          [0.6944, 0.2822],\n",
       "          [0.4618, 0.7407],\n",
       "          [0.3553, 0.3659],\n",
       "          [0.0715, 0.1856]],\n",
       "\n",
       "         [[0.3099, 0.9973],\n",
       "          [0.7081, 0.4504],\n",
       "          [0.4313, 0.2807],\n",
       "          [0.7381, 0.8840],\n",
       "          [0.7114, 0.9964],\n",
       "          [0.8124, 0.1385]],\n",
       "\n",
       "         [[0.2123, 0.5982],\n",
       "          [0.9496, 0.1864],\n",
       "          [0.1517, 0.4581],\n",
       "          [0.2669, 0.7094],\n",
       "          [0.8998, 0.1319],\n",
       "          [0.7037, 0.9070]]],\n",
       "\n",
       "\n",
       "        [[[0.3796, 0.9582],\n",
       "          [0.6449, 0.3931],\n",
       "          [0.7885, 0.7058],\n",
       "          [0.8423, 0.4977],\n",
       "          [0.1235, 0.0961],\n",
       "          [0.4686, 0.5435]],\n",
       "\n",
       "         [[0.8960, 0.2768],\n",
       "          [0.1099, 0.2665],\n",
       "          [0.1996, 0.8921],\n",
       "          [0.6958, 0.3728],\n",
       "          [0.3508, 0.9933],\n",
       "          [0.4383, 0.1835]],\n",
       "\n",
       "         [[0.3698, 0.5199],\n",
       "          [0.6089, 0.6603],\n",
       "          [0.9254, 0.6559],\n",
       "          [0.2934, 0.0430],\n",
       "          [0.3841, 0.1477],\n",
       "          [0.7991, 0.5005]],\n",
       "\n",
       "         [[0.8896, 0.6194],\n",
       "          [0.6916, 0.9856],\n",
       "          [0.8103, 0.8416],\n",
       "          [0.6730, 0.8779],\n",
       "          [0.7924, 0.1007],\n",
       "          [0.6811, 0.0388]]],\n",
       "\n",
       "\n",
       "        [[[0.4211, 0.7744],\n",
       "          [0.7099, 0.8755],\n",
       "          [0.7637, 0.0236],\n",
       "          [0.4675, 0.9568],\n",
       "          [0.6809, 0.6815],\n",
       "          [0.8435, 0.7779]],\n",
       "\n",
       "         [[0.4298, 0.8854],\n",
       "          [0.9846, 0.8860],\n",
       "          [0.5256, 0.9277],\n",
       "          [0.7080, 0.7441],\n",
       "          [0.7705, 0.4352],\n",
       "          [0.2734, 0.2281]],\n",
       "\n",
       "         [[0.2201, 0.8974],\n",
       "          [0.6633, 0.3043],\n",
       "          [0.5355, 0.5221],\n",
       "          [0.1793, 0.8415],\n",
       "          [0.9803, 0.2220],\n",
       "          [0.0305, 0.3847]],\n",
       "\n",
       "         [[0.5273, 0.9321],\n",
       "          [0.9255, 0.3952],\n",
       "          [0.1409, 0.4518],\n",
       "          [0.9264, 0.6076],\n",
       "          [0.2191, 0.1596],\n",
       "          [0.7604, 0.3381]]]])"
      ]
     },
     "execution_count": 41,
     "metadata": {},
     "output_type": "execute_result"
    }
   ],
   "source": [
    "# Example 3 \n",
    "torch.rand(3,4,6,2)"
   ]
  },
  {
   "cell_type": "markdown",
   "metadata": {},
   "source": [
    "In the above example, we can observe that a 4 Dimensional tensor has been initialized with random values between 0 and 1. It is hard to visualize this but the process is very simple.\n",
    "\n",
    "The `torch.rand()` is a very useful function particularly during the weights and bias iniatilization in machine learning with random values."
   ]
  },
  {
   "cell_type": "markdown",
   "metadata": {},
   "source": [
    "## Function 3 - torch.zeros()\n",
    "\n",
    "This function is used to create a PyTorch tensor and fill with zeros with the shape of tensor passed as parameters. \n",
    "\n",
    "Let us look at some examples to get a better understanding of this function:"
   ]
  },
  {
   "cell_type": "code",
   "execution_count": 42,
   "metadata": {},
   "outputs": [
    {
     "data": {
      "text/plain": [
       "tensor([0., 0., 0.])"
      ]
     },
     "execution_count": 42,
     "metadata": {},
     "output_type": "execute_result"
    }
   ],
   "source": [
    "# Example 1\n",
    "\n",
    "torch.zeros(3)"
   ]
  },
  {
   "cell_type": "markdown",
   "metadata": {},
   "source": [
    "In the example above, we can see that a tensor of shape 1X3 is being created with all zeros in the tensor. \n",
    "\n",
    "Tensors of various dimensions can be created using the same process"
   ]
  },
  {
   "cell_type": "code",
   "execution_count": 43,
   "metadata": {},
   "outputs": [
    {
     "data": {
      "text/plain": [
       "tensor([[0., 0., 0.],\n",
       "        [0., 0., 0.]])"
      ]
     },
     "execution_count": 43,
     "metadata": {},
     "output_type": "execute_result"
    }
   ],
   "source": [
    "# Example 2 \n",
    "\n",
    "torch.zeros((2,3))"
   ]
  },
  {
   "cell_type": "markdown",
   "metadata": {},
   "source": [
    "In the above example we are creating a Pytorch tensor with 2X3 dimension completely initialized with 0's.\n",
    "\n",
    "This process is similar to another function `torch.ones()` where it creates a tensor completely filled with 1's. Let us look at one example to get a better understanding of this function too:"
   ]
  },
  {
   "cell_type": "code",
   "execution_count": 14,
   "metadata": {},
   "outputs": [
    {
     "data": {
      "text/plain": [
       "tensor([[1., 1., 1., 1., 1.],\n",
       "        [1., 1., 1., 1., 1.],\n",
       "        [1., 1., 1., 1., 1.]])"
      ]
     },
     "execution_count": 14,
     "metadata": {},
     "output_type": "execute_result"
    }
   ],
   "source": [
    "# Example 3\n",
    "\n",
    "torch.ones((3,5))"
   ]
  },
  {
   "cell_type": "markdown",
   "metadata": {},
   "source": [
    "In the above example, a pytorch tensor with dimension 3X5 is being created which is completely filled with 1's. This is similar to the `torch.zeros()` function that we have looked earlier."
   ]
  },
  {
   "cell_type": "markdown",
   "metadata": {},
   "source": [
    "These functions can be very useful to build machine learning and deep learning algorithms when we have to use an array completely filled with 0's or 1's."
   ]
  },
  {
   "cell_type": "markdown",
   "metadata": {},
   "source": [
    "## Function 4 - torch.arange()\n",
    "\n",
    "This function gives us a 1-Dimensional tensor with values ranging from \\[start,end). `start` and `end` are passed as parameters to the function. There is another parameter `step` that we can pass as a parameter to the function to indicate the absolute difference between two consecutive values in the tensor i.e. they are equally spaced. Therefore, the shape of the tensor generated would be (end-start)/step\n",
    "\n",
    "To have a better understanding of this function, let us look at some examples:"
   ]
  },
  {
   "cell_type": "code",
   "execution_count": 15,
   "metadata": {},
   "outputs": [
    {
     "data": {
      "text/plain": [
       "tensor([1, 2, 3, 4, 5, 6, 7, 8, 9])"
      ]
     },
     "execution_count": 15,
     "metadata": {},
     "output_type": "execute_result"
    }
   ],
   "source": [
    "# Example 1\n",
    "\n",
    "torch.arange(1,10)"
   ]
  },
  {
   "cell_type": "markdown",
   "metadata": {},
   "source": [
    "In the example above, `start=1` and `end=10` which is initializing a tensor with values starting from 1 to 9.\n",
    "\n",
    "In this example, we did not specify any value for `step` parameter. By default, `step=1`. Therefore, we have got the tensor values with a common difference of 1."
   ]
  },
  {
   "cell_type": "code",
   "execution_count": 16,
   "metadata": {},
   "outputs": [
    {
     "data": {
      "text/plain": [
       "tensor([0, 1, 2, 3, 4])"
      ]
     },
     "execution_count": 16,
     "metadata": {},
     "output_type": "execute_result"
    }
   ],
   "source": [
    "# Example 2 \n",
    "torch.arange(5)"
   ]
  },
  {
   "cell_type": "markdown",
   "metadata": {},
   "source": [
    "In the above example, only one parameter is passed which by default is `end=5`. Therefore, the tensor is initialized with values from 0 to 4. Here, `start=0` which is set by default.\n",
    "\n",
    "The function doesn't work if no parameters are passed to it."
   ]
  },
  {
   "cell_type": "code",
   "execution_count": 44,
   "metadata": {},
   "outputs": [
    {
     "data": {
      "text/plain": [
       "tensor([1.0000, 1.5000, 2.0000, 2.5000, 3.0000, 3.5000, 4.0000, 4.5000])"
      ]
     },
     "execution_count": 44,
     "metadata": {},
     "output_type": "execute_result"
    }
   ],
   "source": [
    "# Example 3 \n",
    "torch.arange(1,5,.5)"
   ]
  },
  {
   "cell_type": "markdown",
   "metadata": {},
   "source": [
    "In the above example, the `step=0.5` parameter is also passed along with `start=1` and `end=5` which is why the tensor is generated with the length of 10 and common difference between every two elements in 0.5 "
   ]
  },
  {
   "cell_type": "markdown",
   "metadata": {},
   "source": [
    "This function can be very used to quickly generate values from one number to another in a sequential order with any common difference between elements."
   ]
  },
  {
   "cell_type": "markdown",
   "metadata": {},
   "source": [
    "## Function 5 - torch.eye()\n",
    "\n",
    "This function is used to generate a tensor with 1's in the diagonal and 0's elsewhere i.e. identity matrix of shape N X M where N,M are passed as parameters to this function.\n",
    "\n",
    "Let us look at some examples to get a better understanding of this function."
   ]
  },
  {
   "cell_type": "code",
   "execution_count": 45,
   "metadata": {},
   "outputs": [
    {
     "data": {
      "text/plain": [
       "tensor([[1., 0., 0.],\n",
       "        [0., 1., 0.],\n",
       "        [0., 0., 1.]])"
      ]
     },
     "execution_count": 45,
     "metadata": {},
     "output_type": "execute_result"
    }
   ],
   "source": [
    "# Example 1\n",
    "torch.eye(3)"
   ]
  },
  {
   "cell_type": "markdown",
   "metadata": {},
   "source": [
    "In the example above, we can observe that a tensor of shape 3X3 is generated which is an identity matrix consisting of 1's in the diagonal and 0's elsewhere.\n",
    "\n",
    "*Note:* Although we did not pass two parameters, the function is considering `N=M=3`."
   ]
  },
  {
   "cell_type": "code",
   "execution_count": 24,
   "metadata": {},
   "outputs": [
    {
     "data": {
      "text/plain": [
       "tensor([[1., 0.],\n",
       "        [0., 1.],\n",
       "        [0., 0.]])"
      ]
     },
     "execution_count": 24,
     "metadata": {},
     "output_type": "execute_result"
    }
   ],
   "source": [
    "# Example 2 \n",
    "torch.eye(3,2)"
   ]
  },
  {
   "cell_type": "markdown",
   "metadata": {},
   "source": [
    "In the example above, the dimension passed as parameters are `N=3` and `M=2` which is not a square matrix shape but the function is generating a tensor of shape 3X2 which is also an identity matrix."
   ]
  },
  {
   "cell_type": "code",
   "execution_count": 27,
   "metadata": {},
   "outputs": [
    {
     "ename": "TypeError",
     "evalue": "eye() received an invalid combination of arguments - got (int, int, int), but expected one of:\n * (int n, *, Tensor out, torch.dtype dtype, torch.layout layout, torch.device device, bool pin_memory, bool requires_grad)\n * (int n, int m, *, Tensor out, torch.dtype dtype, torch.layout layout, torch.device device, bool pin_memory, bool requires_grad)\n",
     "output_type": "error",
     "traceback": [
      "\u001b[0;31m---------------------------------------------------------------------------\u001b[0m",
      "\u001b[0;31mTypeError\u001b[0m                                 Traceback (most recent call last)",
      "\u001b[0;32m/tmp/ipykernel_37/1607951061.py\u001b[0m in \u001b[0;36m<module>\u001b[0;34m\u001b[0m\n\u001b[1;32m      1\u001b[0m \u001b[0;31m# Example 3\u001b[0m\u001b[0;34m\u001b[0m\u001b[0;34m\u001b[0m\u001b[0;34m\u001b[0m\u001b[0m\n\u001b[0;32m----> 2\u001b[0;31m \u001b[0mtorch\u001b[0m\u001b[0;34m.\u001b[0m\u001b[0meye\u001b[0m\u001b[0;34m(\u001b[0m\u001b[0;36m3\u001b[0m\u001b[0;34m,\u001b[0m\u001b[0;36m2\u001b[0m\u001b[0;34m,\u001b[0m\u001b[0;36m1\u001b[0m\u001b[0;34m)\u001b[0m\u001b[0;34m\u001b[0m\u001b[0;34m\u001b[0m\u001b[0m\n\u001b[0m",
      "\u001b[0;31mTypeError\u001b[0m: eye() received an invalid combination of arguments - got (int, int, int), but expected one of:\n * (int n, *, Tensor out, torch.dtype dtype, torch.layout layout, torch.device device, bool pin_memory, bool requires_grad)\n * (int n, int m, *, Tensor out, torch.dtype dtype, torch.layout layout, torch.device device, bool pin_memory, bool requires_grad)\n"
     ]
    }
   ],
   "source": [
    "# Example 3\n",
    "torch.eye(3,2,1)"
   ]
  },
  {
   "cell_type": "markdown",
   "metadata": {},
   "source": [
    "In the example above, we can observe that the function only works if we pass either 1 or 2 parameters but not more. This is the case where this function returns an error."
   ]
  },
  {
   "cell_type": "markdown",
   "metadata": {},
   "source": [
    "Identity matrices are very frequently used in applications like computer vision and deep learning."
   ]
  },
  {
   "cell_type": "markdown",
   "metadata": {},
   "source": [
    "## Conclusion\n",
    "\n",
    "In the above notebook, we have understood what Pytorch is and some basic functions in Pytorch which are used very frequently in many applications."
   ]
  },
  {
   "cell_type": "markdown",
   "metadata": {},
   "source": [
    "## Reference Links\n",
    "Links for reference and other interesting articles and functions in Pytorch:\n",
    "* Official documentation for tensor operations: https://pytorch.org/docs/stable/torch.html"
   ]
  }
 ],
 "metadata": {
  "kernelspec": {
   "display_name": "Python 3 (ipykernel)",
   "language": "python",
   "name": "python3"
  },
  "language_info": {
   "codemirror_mode": {
    "name": "ipython",
    "version": 3
   },
   "file_extension": ".py",
   "mimetype": "text/x-python",
   "name": "python",
   "nbconvert_exporter": "python",
   "pygments_lexer": "ipython3",
   "version": "3.9.6"
  }
 },
 "nbformat": 4,
 "nbformat_minor": 4
}
